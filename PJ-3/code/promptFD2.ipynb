{
 "cells": [
  {
   "cell_type": "code",
   "execution_count": 1,
   "metadata": {},
   "outputs": [],
   "source": [
    "import torch\n",
    "device = 'cuda:1'"
   ]
  },
  {
   "cell_type": "code",
   "execution_count": 2,
   "metadata": {},
   "outputs": [],
   "source": [
    "import loader\n",
    "data_path = 'dataset/FSS/FewShotSST/train_64.tsv'\n",
    "train_data = loader.read_label_data(data_path)"
   ]
  },
  {
   "cell_type": "code",
   "execution_count": 3,
   "metadata": {},
   "outputs": [],
   "source": [
    "from openprompt.data_utils import InputExample\n",
    "classes = [ # There are two classes in Sentiment Analysis, one for negative and one for positive\n",
    "    \"negative\",\n",
    "    \"positive\"\n",
    "]\n",
    "dataset = [\n",
    "    InputExample(guid=label, text_a=sentence) for sentence, label in train_data\n",
    "]"
   ]
  },
  {
   "cell_type": "code",
   "execution_count": 4,
   "metadata": {},
   "outputs": [
    {
     "name": "stderr",
     "output_type": "stream",
     "text": [
      "Some weights of the model checkpoint at bert-base-cased were not used when initializing BertForMaskedLM: ['cls.seq_relationship.bias', 'cls.seq_relationship.weight']\n",
      "- This IS expected if you are initializing BertForMaskedLM from the checkpoint of a model trained on another task or with another architecture (e.g. initializing a BertForSequenceClassification model from a BertForPreTraining model).\n",
      "- This IS NOT expected if you are initializing BertForMaskedLM from the checkpoint of a model that you expect to be exactly identical (initializing a BertForSequenceClassification model from a BertForSequenceClassification model).\n"
     ]
    }
   ],
   "source": [
    "from openprompt.plms import load_plm\n",
    "plm, tokenizer, model_config, WrapperClass = load_plm(\"bert\", \"bert-base-cased\")"
   ]
  },
  {
   "cell_type": "code",
   "execution_count": 5,
   "metadata": {},
   "outputs": [],
   "source": [
    "from openprompt.prompts import ManualTemplate\n",
    "promptTemplate = ManualTemplate(\n",
    "    text = '{\"placeholder\":\"text_a\"} It was {\"mask\"}',\n",
    "    tokenizer = tokenizer,\n",
    ")"
   ]
  },
  {
   "cell_type": "code",
   "execution_count": 6,
   "metadata": {},
   "outputs": [],
   "source": [
    "from openprompt.prompts import ManualVerbalizer\n",
    "promptVerbalizer = ManualVerbalizer(\n",
    "    classes = classes,\n",
    "    label_words = {\n",
    "        \"negative\": [\"bad\", \"stupid\", \"horrible\", \"awful\", \"disaster\"],\n",
    "        \"positive\": [\"good\", \"wonderful\", \"great\", \"beautiful\", \"lovely\"],\n",
    "    },\n",
    "    tokenizer = tokenizer,\n",
    ")"
   ]
  },
  {
   "cell_type": "code",
   "execution_count": 7,
   "metadata": {},
   "outputs": [],
   "source": [
    "from openprompt import PromptForClassification\n",
    "prompt_model = PromptForClassification(\n",
    "    template = promptTemplate,\n",
    "    plm = plm,\n",
    "    verbalizer = promptVerbalizer,\n",
    "    freeze_plm=False\n",
    ").to(device)"
   ]
  },
  {
   "cell_type": "code",
   "execution_count": 8,
   "metadata": {},
   "outputs": [
    {
     "name": "stderr",
     "output_type": "stream",
     "text": [
      "tokenizing: 64it [00:00, 929.07it/s]\n"
     ]
    }
   ],
   "source": [
    "from openprompt import PromptDataLoader\n",
    "train_dataloader = PromptDataLoader(\n",
    "    dataset = dataset,\n",
    "    tokenizer = tokenizer,\n",
    "    template = promptTemplate,\n",
    "    tokenizer_wrapper_class=WrapperClass,\n",
    ")"
   ]
  },
  {
   "cell_type": "code",
   "execution_count": 9,
   "metadata": {},
   "outputs": [
    {
     "name": "stdout",
     "output_type": "stream",
     "text": [
      "epoch: 1\tTraining Loss: 0.840910\n",
      "epoch: 2\tTraining Loss: 0.817890\n",
      "epoch: 3\tTraining Loss: 0.796914\n",
      "epoch: 4\tTraining Loss: 0.777836\n",
      "epoch: 5\tTraining Loss: 0.760513\n",
      "epoch: 6\tTraining Loss: 0.744806\n",
      "epoch: 7\tTraining Loss: 0.730579\n",
      "epoch: 8\tTraining Loss: 0.717708\n",
      "epoch: 9\tTraining Loss: 0.706072\n",
      "epoch: 10\tTraining Loss: 0.695558\n",
      "epoch: 11\tTraining Loss: 0.686061\n",
      "epoch: 12\tTraining Loss: 0.677485\n",
      "epoch: 13\tTraining Loss: 0.669738\n",
      "epoch: 14\tTraining Loss: 0.662737\n",
      "epoch: 15\tTraining Loss: 0.656407\n"
     ]
    },
    {
     "name": "stderr",
     "output_type": "stream",
     "text": [
      "tokenizing: 1101it [00:00, 1222.00it/s]\n"
     ]
    },
    {
     "name": "stdout",
     "output_type": "stream",
     "text": [
      "Validation Accuracy: 0.631\n"
     ]
    }
   ],
   "source": [
    "from transformers import  AdamW, get_linear_schedule_with_warmup\n",
    "from torch.optim import SGD\n",
    "loss_func = torch.nn.CrossEntropyLoss()\n",
    "\n",
    "optimizer1 = SGD(prompt_model.parameters(), lr=1e-6)\n",
    "\n",
    "epochs = 15\n",
    "for epoch in range(1, epochs + 1):\n",
    "    tot_loss = 0 \n",
    "    batch_cnt = 0\n",
    "    for step, inputs in enumerate(train_dataloader):\n",
    "        inputs = inputs.to(device)\n",
    "        logits = prompt_model(inputs)\n",
    "        labels = inputs['guid'].to(device)\n",
    "        loss = loss_func(logits, labels)\n",
    "        loss.backward()\n",
    "        tot_loss += loss.item()\n",
    "        optimizer1.step()\n",
    "        optimizer1.zero_grad()\n",
    "        # optimizer2.step()\n",
    "        # optimizer2.zero_grad()\n",
    "        batch_cnt += 1\n",
    "    tot_loss /= batch_cnt\n",
    "    print('epoch: %d\\tTraining Loss: %5lf' % (epoch, tot_loss))\n",
    "\n",
    "val_data_path = 'dataset/FSS/FewShotSST/dev.tsv'\n",
    "val_data = loader.read_label_data(val_data_path)\n",
    "val_dataset = [\n",
    "    InputExample(guid=label, text_a=sentence) for sentence, label in val_data\n",
    "]\n",
    "val_dataloader = PromptDataLoader(\n",
    "    dataset = val_dataset,\n",
    "    tokenizer = tokenizer,\n",
    "    template = promptTemplate,\n",
    "    tokenizer_wrapper_class=WrapperClass,\n",
    ")\n",
    "prompt_model.eval()\n",
    "pred_logits = []\n",
    "with torch.no_grad():\n",
    "    for batch in val_dataloader:\n",
    "        batch = batch.to(device)\n",
    "        logits = prompt_model(batch)\n",
    "        preds = torch.argmax(logits, dim = -1)\n",
    "        pred_logits.append(preds.item())\n",
    "true_logit = [label for _, label in val_data]\n",
    "total_count = len(true_logit)\n",
    "correct_count = 0\n",
    "for i in range(total_count):\n",
    "    if true_logit[i] == pred_logits[i]:\n",
    "        correct_count += 1\n",
    "acc = correct_count / total_count\n",
    "print(\"Validation Accuracy: %.3f\" % acc)"
   ]
  },
  {
   "cell_type": "code",
   "execution_count": 26,
   "metadata": {},
   "outputs": [
    {
     "name": "stderr",
     "output_type": "stream",
     "text": [
      "tokenizing: 2210it [00:01, 1589.42it/s]\n"
     ]
    }
   ],
   "source": [
    "testdata_path = 'dataset/FSS/FewShotSST/test.tsv'\n",
    "test_data = loader.read_unlabel_data(testdata_path)\n",
    "testset = [\n",
    "    InputExample(text_a=sentence) for _, sentence in test_data\n",
    "]\n",
    "test_loader = PromptDataLoader(\n",
    "    dataset = testset,\n",
    "    tokenizer = tokenizer,\n",
    "    template = promptTemplate,\n",
    "    tokenizer_wrapper_class=WrapperClass,\n",
    ")\n",
    "'''Test on Test set'''\n",
    "prompt_model.eval()\n",
    "test_result = []\n",
    "with torch.no_grad():\n",
    "    for batch in test_loader:\n",
    "        batch = batch.to(device)\n",
    "        logits = prompt_model(batch)\n",
    "        preds = torch.argmax(logits, dim = -1)\n",
    "        test_result.append(preds.item())"
   ]
  },
  {
   "cell_type": "code",
   "execution_count": 27,
   "metadata": {},
   "outputs": [],
   "source": [
    "with open('32.tsv', 'w') as f:\n",
    "    f.write('index\\tprediction\\n')\n",
    "    for i in range(len(test_result)):\n",
    "        f.write('%d\\t%d\\n' % (i, test_result[i]))\n",
    "    f.close()"
   ]
  },
  {
   "cell_type": "code",
   "execution_count": null,
   "metadata": {},
   "outputs": [],
   "source": []
  }
 ],
 "metadata": {
  "interpreter": {
   "hash": "be874ea3d9d29c6b8ed66ca48e827e8921c4952c00bef47ea100535b21b52e17"
  },
  "kernelspec": {
   "display_name": "Python 3.6.13 64-bit ('OpenPrompt': conda)",
   "language": "python",
   "name": "python3"
  },
  "language_info": {
   "codemirror_mode": {
    "name": "ipython",
    "version": 3
   },
   "file_extension": ".py",
   "mimetype": "text/x-python",
   "name": "python",
   "nbconvert_exporter": "python",
   "pygments_lexer": "ipython3",
   "version": "3.6.13"
  },
  "orig_nbformat": 4
 },
 "nbformat": 4,
 "nbformat_minor": 2
}
